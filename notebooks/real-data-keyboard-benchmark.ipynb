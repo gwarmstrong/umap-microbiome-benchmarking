{
 "cells": [
  {
   "cell_type": "code",
   "execution_count": 40,
   "outputs": [],
   "source": [
    "\n",
    "from functools import partial\n",
    "from itertools import product\n",
    "from scipy.spatial.distance import cdist\n",
    "import numpy as np\n",
    "import pandas as pd\n",
    "from sklearn.pipeline import Pipeline\n",
    "from friendly_guacamole.transforms import (\n",
    "    FilterSamples,\n",
    "    UniFrac,\n",
    "    RarefactionBIOM,\n",
    "    PCoA,\n",
    "    AsDense,\n",
    "    CLR,\n",
    ")\n",
    "from friendly_guacamole.datasets import KeyboardDataset\n",
    "from skbio import DistanceMatrix\n",
    "from umap import UMAP\n",
    "import matplotlib.pyplot as plt\n",
    "import seaborn as sns\n",
    "from matplotlib.patches import Patch\n",
    "from sklearn.discriminant_analysis import LinearDiscriminantAnalysis\n"
   ],
   "metadata": {
    "collapsed": false,
    "pycharm": {
     "name": "#%%\n"
    }
   }
  },
  {
   "cell_type": "code",
   "execution_count": 2,
   "outputs": [
    {
     "name": "stdout",
     "output_type": "stream",
     "text": [
      "Files already downloaded and verified\n"
     ]
    }
   ],
   "source": [
    "keyboard_data = KeyboardDataset('data/keyboard')\n",
    "tree = keyboard_data.apply('tree', 'path')\n",
    "\n",
    "RAREFACTION_DEPTH = 500"
   ],
   "metadata": {
    "collapsed": false,
    "pycharm": {
     "name": "#%%\n"
    }
   }
  },
  {
   "cell_type": "code",
   "execution_count": 3,
   "outputs": [],
   "source": [
    "min_count_filter = FilterSamples(min_count=RAREFACTION_DEPTH)\n",
    "kb_mf = keyboard_data['metadata']\n",
    "kb_table = keyboard_data['table']\n",
    "kb_mf = kb_mf.set_index('sample_name')\n",
    "metadata = kb_mf[kb_mf.host_subject_id.isin(['M2','M3', 'M9'])]\n",
    "kb_table = kb_table.filter(metadata.index)\n",
    "table = min_count_filter.fit_transform(kb_table)\n",
    "metadata = metadata.loc[table.ids('sample')]"
   ],
   "metadata": {
    "collapsed": false,
    "pycharm": {
     "name": "#%%\n"
    }
   }
  },
  {
   "cell_type": "code",
   "execution_count": null,
   "outputs": [],
   "source": [
    "rarefied_table = RarefactionBIOM(RAREFACTION_DEPTH).fit_transform(table)"
   ],
   "metadata": {
    "collapsed": false,
    "pycharm": {
     "name": "#%%\n"
    }
   }
  },
  {
   "cell_type": "code",
   "execution_count": 5,
   "outputs": [],
   "source": [
    "def postprocess_umap(results):\n",
    "    return pd.DataFrame(results, columns=[f'PC{i + 1}'\n",
    "                                          for i in range(results.shape[1])])"
   ],
   "metadata": {
    "collapsed": false,
    "pycharm": {
     "name": "#%%\n"
    }
   }
  },
  {
   "cell_type": "code",
   "execution_count": 6,
   "outputs": [],
   "source": [
    "aitchison_pipeline = Pipeline([\n",
    "    ('asdense', AsDense()),\n",
    "    ('clr', CLR()),\n",
    "])"
   ],
   "metadata": {
    "collapsed": false,
    "pycharm": {
     "name": "#%%\n"
    }
   }
  },
  {
   "cell_type": "code",
   "execution_count": 7,
   "outputs": [],
   "source": [
    "aitchison_prep_tables = [\n",
    "    {\n",
    "        'name': 'Aitchison',\n",
    "        'metric': 'euclidean',\n",
    "        'pipeline': aitchison_pipeline,\n",
    "    },\n",
    "]\n",
    "\n",
    "prep_tables = [\n",
    "    {\n",
    "        'name': 'Aitchison',\n",
    "        'metric': 'euclidean',\n",
    "        'pipeline': aitchison_pipeline,\n",
    "    },\n",
    "]"
   ],
   "metadata": {
    "collapsed": false,
    "pycharm": {
     "name": "#%%\n"
    }
   }
  },
  {
   "cell_type": "code",
   "execution_count": 8,
   "outputs": [],
   "source": [
    "def pcoa_amend_axes(transformer, axes_names):\n",
    "    pe = transformer.ordination_.proportion_explained\n",
    "    return [f'{axn} ({pexp:.1%})' for pexp, axn in zip(pe, axes_names)]"
   ],
   "metadata": {
    "collapsed": false,
    "pycharm": {
     "name": "#%%\n"
    }
   }
  },
  {
   "cell_type": "code",
   "execution_count": 9,
   "outputs": [],
   "source": [
    "embedding_methods = [\n",
    "    {\n",
    "        'method': 'PCoA',\n",
    "        'pipeline': PCoA,\n",
    "        'axes': ['PCoA-1', 'PCoA-2'],\n",
    "        'amend_axes': pcoa_amend_axes,\n",
    "    },\n",
    "    {\n",
    "        'method': 'UMAP\\nNeighbors=15',\n",
    "        'pipeline': partial(UMAP,\n",
    "                            min_dist=1,\n",
    "                            random_state=724\n",
    "                            ),\n",
    "        'postprocess': postprocess_umap,\n",
    "        'axes': ['UMAP-1', 'UMAP-2']\n",
    "    },\n",
    "    {\n",
    "        'method': 'UMAP\\nNeighbors=80',\n",
    "        'pipeline': partial(UMAP,\n",
    "                            min_dist=1,\n",
    "                            n_neighbors=80,\n",
    "                            random_state=825),\n",
    "        'postprocess': postprocess_umap,\n",
    "        'axes': ['UMAP-1', 'UMAP-2']\n",
    "    },\n",
    "]"
   ],
   "metadata": {
    "collapsed": false,
    "pycharm": {
     "name": "#%%\n"
    }
   }
  },
  {
   "cell_type": "code",
   "execution_count": 10,
   "outputs": [],
   "source": [
    "results = dict()\n",
    "\n",
    "for prep, emb in product(prep_tables, embedding_methods):\n",
    "    metric = prep['metric']\n",
    "    method = emb['method']\n",
    "    name = prep['name']\n",
    "    prepped_table = prep['pipeline'].fit_transform(table)\n",
    "    transformer = emb['pipeline'](metric=metric)\n",
    "    embedding = transformer.fit_transform(prepped_table)\n",
    "    result = emb.get('postprocess', lambda x: x)(embedding)\n",
    "    amend_axes = emb.get('amend_axes', lambda t, labels: labels)\n",
    "    results[(name, method)] = {'ordination': result,\n",
    "                               'axes': amend_axes(transformer, emb['axes']),\n",
    "                               }\n"
   ],
   "metadata": {
    "collapsed": false,
    "pycharm": {
     "name": "#%%\n"
    }
   }
  },
  {
   "cell_type": "code",
   "execution_count": 10,
   "outputs": [],
   "source": [],
   "metadata": {
    "collapsed": false,
    "pycharm": {
     "name": "#%%\n"
    }
   }
  },
  {
   "cell_type": "code",
   "execution_count": 11,
   "outputs": [],
   "source": [
    "v_position_map = {x['name']: i for i, x in enumerate(prep_tables)}\n",
    "h_position_map = {x['method']: i for i, x in enumerate(embedding_methods)}\n",
    "\n",
    "metadata['host_surface'] = metadata['host_subject_id'] + \\\n",
    "                           metadata['sample_type']\n"
   ],
   "metadata": {
    "collapsed": false,
    "pycharm": {
     "name": "#%%\n"
    }
   }
  },
  {
   "cell_type": "code",
   "execution_count": 12,
   "outputs": [
    {
     "data": {
      "text/plain": "<Figure size 1080x360 with 3 Axes>",
      "image/png": "[encoded data removed]"
     },
     "metadata": {
      "needs_background": "light"
     },
     "output_type": "display_data"
    }
   ],
   "source": [
    "fig, axs = plt.subplots(len(v_position_map), len(h_position_map),\n",
    "                        figsize=(15, 5),\n",
    "                        )\n",
    "for (name, method), result in results.items():\n",
    "        i = v_position_map[name]\n",
    "        j = h_position_map[method]\n",
    "        res = results[(name, method)]['ordination']\n",
    "        res.index = metadata.index\n",
    "        res = res.join(metadata)\n",
    "\n",
    "        g = sns.scatterplot(\n",
    "            x='PC1',\n",
    "            y='PC2',\n",
    "            hue='host_surface',\n",
    "            hue_order=list(sorted(metadata['host_surface'].unique())),\n",
    "            # style='sample_type',\n",
    "            data=res,\n",
    "            ax=axs[j],\n",
    "            s=35,\n",
    "            edgecolor='k',\n",
    "            palette='Paired',\n",
    "        )\n",
    "        g.set_aspect('equal', 'datalim')\n",
    "        g.legend().remove()\n",
    "\n",
    "        g.set_title(f'{name}-{method}',\n",
    "                    color='black',\n",
    "                    fontsize=24)\n",
    "\n",
    "        g.set_xlabel(result['axes'][0], color='black', fontsize=18)\n",
    "        g.set_ylabel(result['axes'][1], color='black', fontsize=18)\n",
    "\n",
    "plt.tight_layout()\n",
    "plt.savefig('results/2.0-real-data-keyboard-ordination-aitchison.svg', dpi=300)\n",
    "plt.show()"
   ],
   "metadata": {
    "collapsed": false,
    "pycharm": {
     "name": "#%%\n"
    }
   }
  },
  {
   "cell_type": "code",
   "execution_count": 13,
   "outputs": [
    {
     "data": {
      "text/plain": "<Figure size 432x288 with 1 Axes>",
      "image/png": "[encoded data removed]"
     },
     "metadata": {
      "needs_background": "light"
     },
     "output_type": "display_data"
    }
   ],
   "source": [
    "def add_legend(ax, pal, hue_order, patch_kwargs=None, legend_kwargs=None):\n",
    "    if not legend_kwargs:\n",
    "        legend_kwargs = dict()\n",
    "    if not patch_kwargs:\n",
    "        patch_kwargs = dict()\n",
    "\n",
    "    palette = sns.color_palette(pal)\n",
    "    legend_elements = []\n",
    "\n",
    "    for i, name in enumerate(hue_order):\n",
    "        new_element = Patch(\n",
    "            facecolor=palette[i % len(palette)],\n",
    "            label=name,\n",
    "            **patch_kwargs,\n",
    "        )\n",
    "        legend_elements.append(new_element)\n",
    "\n",
    "    legend = ax.legend(handles=legend_elements, **legend_kwargs)\n",
    "    ax.add_artist(legend)\n",
    "    return legend\n",
    "\n",
    "fig, ax = plt.subplots()\n",
    "unique = list(sorted(metadata['host_surface'].unique()))\n",
    "unique = [u[:2] + '-' + u[2:] for u in unique]\n",
    "\n",
    "add_legend(ax, 'Paired', unique,\n",
    "           patch_kwargs=dict(\n",
    "               edgecolor='w',\n",
    "               linewidth=1,\n",
    "           ),\n",
    "           legend_kwargs=dict(\n",
    "               loc='center',\n",
    "               fontsize=13, ncol=3, framealpha=0.0,\n",
    "               title='Subject-Sample Type',\n",
    "               title_fontsize=18,\n",
    "           )\n",
    ")\n",
    "ax.axis('off')\n",
    "plt.savefig('results/2.0-real-data-keyboard-ordination-legend.svg')\n",
    "plt.show()"
   ],
   "metadata": {
    "collapsed": false,
    "pycharm": {
     "name": "#%%\n"
    }
   }
  },
  {
   "cell_type": "code",
   "execution_count": 26,
   "outputs": [
    {
     "data": {
      "text/plain": "array([[-0.11820307,  0.57494411, -0.11820307, ..., -0.11820307,\n         1.26809129, -0.11820307],\n       [-0.04194283, -0.04194283,  0.65120435, ..., -0.04194283,\n         2.35595245, -0.04194283],\n       [-0.09991859, -0.09991859,  0.59322859, ..., -0.09991859,\n         2.2026665 , -0.09991859],\n       ...,\n       [-0.03409787, -0.03409787, -0.03409787, ..., -0.03409787,\n         1.57534004, -0.03409787],\n       [-0.03503198, -0.03503198, -0.03503198, ..., -0.03503198,\n         1.35126238, -0.03503198],\n       [-0.05815695, -0.05815695, -0.05815695, ..., -0.05815695,\n         2.4267497 , -0.05815695]])"
     },
     "execution_count": 26,
     "metadata": {},
     "output_type": "execute_result"
    }
   ],
   "source": [],
   "metadata": {
    "collapsed": false,
    "pycharm": {
     "name": "#%%\n"
    }
   }
  },
  {
   "cell_type": "code",
   "execution_count": 27,
   "outputs": [],
   "source": [
    "clr_coordinates = aitchison_pipeline.fit_transform(table)\n",
    "distances = cdist(clr_coordinates, clr_coordinates)\n",
    "adm = DistanceMatrix(\n",
    "    distances ,\n",
    "    ids=metadata.index,\n",
    ")"
   ],
   "metadata": {
    "collapsed": false,
    "pycharm": {
     "name": "#%%\n"
    }
   }
  },
  {
   "cell_type": "code",
   "execution_count": 29,
   "outputs": [],
   "source": [
    "m2_ids = metadata[metadata.host_subject_id == 'M2'].index\n",
    "m3_ids = metadata[metadata.host_subject_id == 'M3'].index\n",
    "m9_ids = metadata[metadata.host_subject_id == 'M9'].index\n",
    "m2m3 = adm.between(m2_ids, m3_ids)\n",
    "m2m9 = adm.between(m2_ids, m9_ids)\n",
    "m3m9 = adm.between(m3_ids, m9_ids)"
   ],
   "metadata": {
    "collapsed": false,
    "pycharm": {
     "name": "#%%\n"
    }
   }
  },
  {
   "cell_type": "code",
   "execution_count": 41,
   "outputs": [],
   "source": [
    "def ci(dist):\n",
    "    return dist.mean(), 1.96 * dist.std() / np.sqrt(len(dist))"
   ],
   "metadata": {
    "collapsed": false,
    "pycharm": {
     "name": "#%%\n"
    }
   }
  },
  {
   "cell_type": "code",
   "execution_count": 42,
   "outputs": [
    {
     "data": {
      "text/plain": "(value    19.887087\n dtype: float64,\n value    0.106436\n dtype: float64)"
     },
     "execution_count": 42,
     "metadata": {},
     "output_type": "execute_result"
    }
   ],
   "source": [
    "ci(m2m3)"
   ],
   "metadata": {
    "collapsed": false,
    "pycharm": {
     "name": "#%%\n"
    }
   }
  },
  {
   "cell_type": "code",
   "execution_count": 43,
   "outputs": [
    {
     "data": {
      "text/plain": "(value    18.942012\n dtype: float64,\n value    0.120493\n dtype: float64)"
     },
     "execution_count": 43,
     "metadata": {},
     "output_type": "execute_result"
    }
   ],
   "source": [
    "ci(m2m9)"
   ],
   "metadata": {
    "collapsed": false,
    "pycharm": {
     "name": "#%%\n"
    }
   }
  },
  {
   "cell_type": "code",
   "execution_count": 44,
   "outputs": [
    {
     "data": {
      "text/plain": "(value    13.867013\n dtype: float64,\n value    0.111524\n dtype: float64)"
     },
     "execution_count": 44,
     "metadata": {},
     "output_type": "execute_result"
    }
   ],
   "source": [
    "ci(m3m9)"
   ],
   "metadata": {
    "collapsed": false,
    "pycharm": {
     "name": "#%%\n"
    }
   }
  },
  {
   "cell_type": "code",
   "execution_count": 14,
   "outputs": [],
   "source": [
    "def get_numeric_index_matching(metadata, category, value):\n",
    "    new_index = metadata[category].reset_index(drop=True)\n",
    "    matches = new_index == value\n",
    "    return new_index.index[matches]"
   ],
   "metadata": {
    "collapsed": false,
    "pycharm": {
     "name": "#%%\n"
    }
   }
  },
  {
   "cell_type": "code",
   "execution_count": 15,
   "outputs": [],
   "source": [
    "repeat_embedding_methods = [\n",
    "    {\n",
    "        'method': 'PCoA',\n",
    "        'pipeline': PCoA,\n",
    "    },\n",
    "]\n",
    "\n",
    "for i in range(10):\n",
    "    new_methods = [\n",
    "        {\n",
    "            'method': 'UMAP\\nNeighbors=15',\n",
    "            'pipeline': partial(UMAP,\n",
    "                                # min_dist=0.5,\n",
    "                                min_dist=1,\n",
    "                                random_state=724 + i,\n",
    "                                ),\n",
    "            'postprocess': postprocess_umap,\n",
    "        },\n",
    "        {\n",
    "            'method': 'UMAP\\nNeighbors=80',\n",
    "            'pipeline': partial(UMAP,\n",
    "                                # min_dist=0.5,\n",
    "                                min_dist=1,\n",
    "                                n_neighbors=80,\n",
    "                                random_state=825 + i\n",
    "                                ),\n",
    "            'postprocess': postprocess_umap,\n",
    "        },\n",
    "    ]\n",
    "    repeat_embedding_methods.extend(new_methods)"
   ],
   "metadata": {
    "collapsed": false,
    "pycharm": {
     "name": "#%%\n"
    }
   }
  },
  {
   "cell_type": "code",
   "execution_count": 16,
   "outputs": [],
   "source": [
    "repeat_results = dict()\n",
    "\n",
    "for i, (prep, emb) in enumerate(product(aitchison_prep_tables,\n",
    "                                repeat_embedding_methods)):\n",
    "    metric = prep['metric']\n",
    "    method = emb['method']\n",
    "    name = prep['name']\n",
    "    prepped_table = prep['pipeline'].fit_transform(table)\n",
    "    transformer = emb['pipeline'](metric=metric)\n",
    "    embedding = transformer.fit_transform(prepped_table)\n",
    "    result = emb.get('postprocess', lambda x: x)(embedding)\n",
    "    repeat_results[(i, name, method)] = {'ordination': result}"
   ],
   "metadata": {
    "collapsed": false,
    "pycharm": {
     "name": "#%%\n"
    }
   }
  },
  {
   "cell_type": "code",
   "execution_count": 17,
   "outputs": [],
   "source": [
    "model = LinearDiscriminantAnalysis()\n",
    "\n",
    "for (i, name, method), result in repeat_results.items():\n",
    "    first_pcs = result['ordination'].loc[:, ['PC1', 'PC2']]\n",
    "    grouping = metadata['host_subject_id']\n",
    "    model.fit(first_pcs, grouping)\n",
    "    stats_result = model.score(first_pcs, grouping)\n",
    "\n",
    "    result_key = 'within_subject_clustering_model'\n",
    "    result[result_key] = {'overall': stats_result}\n",
    "    for subject in metadata['host_subject_id'].unique():\n",
    "        idx = get_numeric_index_matching(metadata, 'host_subject_id', subject)\n",
    "        sub_metadata = metadata.iloc[idx]\n",
    "        sub_pcs = first_pcs.iloc[idx]\n",
    "        sub_target = sub_metadata['sample_type']\n",
    "        model.fit(sub_pcs, sub_target)\n",
    "        stats_result = model.score(sub_pcs, sub_target)\n",
    "        result[result_key][subject] = stats_result\n",
    "\n",
    "for (i, name, method), result in repeat_results.items():\n",
    "    result['model statistics'] = dict()\n",
    "    result['model statistics']['host'] = \\\n",
    "        result['within_subject_clustering_model']['overall']\n",
    "    for subject in metadata['host_subject_id'].unique():\n",
    "        stat = result['within_subject_clustering_model'][subject]\n",
    "        result['model statistics'][f'{subject}-type'] = stat\n",
    "\n",
    "model_statistics = dict()\n",
    "for (i, name, method), result in repeat_results.items():\n",
    "    model_statistics[(i, name, method)] = result['model statistics']"
   ],
   "metadata": {
    "collapsed": false,
    "pycharm": {
     "name": "#%%\n"
    }
   }
  },
  {
   "cell_type": "code",
   "execution_count": 18,
   "outputs": [
    {
     "data": {
      "text/plain": "                             host      M2-type        M3-type        M9-type  \\\n                             mean  std    mean    std    mean    std    mean   \nlevel_1   level_2                                                              \nAitchison PCoA               0.99  NaN   0.789    NaN   0.781    NaN   0.931   \n          UMAP Neighbors=15  1.00  0.0   0.974  0.012   0.856  0.049   0.990   \n          UMAP Neighbors=80  1.00  0.0   0.992  0.013   0.831  0.059   0.969   \n\n                                    \n                               std  \nlevel_1   level_2                   \nAitchison PCoA                 NaN  \n          UMAP Neighbors=15  0.017  \n          UMAP Neighbors=80  0.025  ",
      "text/html": "<div>\n<style scoped>\n    .dataframe tbody tr th:only-of-type {\n        vertical-align: middle;\n    }\n\n    .dataframe tbody tr th {\n        vertical-align: top;\n    }\n\n    .dataframe thead tr th {\n        text-align: left;\n    }\n\n    .dataframe thead tr:last-of-type th {\n        text-align: right;\n    }\n</style>\n<table border=\"1\" class=\"dataframe\">\n  <thead>\n    <tr>\n      <th></th>\n      <th></th>\n      <th colspan=\"2\" halign=\"left\">host</th>\n      <th colspan=\"2\" halign=\"left\">M2-type</th>\n      <th colspan=\"2\" halign=\"left\">M3-type</th>\n      <th colspan=\"2\" halign=\"left\">M9-type</th>\n    </tr>\n    <tr>\n      <th></th>\n      <th></th>\n      <th>mean</th>\n      <th>std</th>\n      <th>mean</th>\n      <th>std</th>\n      <th>mean</th>\n      <th>std</th>\n      <th>mean</th>\n      <th>std</th>\n    </tr>\n    <tr>\n      <th>level_1</th>\n      <th>level_2</th>\n      <th></th>\n      <th></th>\n      <th></th>\n      <th></th>\n      <th></th>\n      <th></th>\n      <th></th>\n      <th></th>\n    </tr>\n  </thead>\n  <tbody>\n    <tr>\n      <th rowspan=\"3\" valign=\"top\">Aitchison</th>\n      <th>PCoA</th>\n      <td>0.99</td>\n      <td>NaN</td>\n      <td>0.789</td>\n      <td>NaN</td>\n      <td>0.781</td>\n      <td>NaN</td>\n      <td>0.931</td>\n      <td>NaN</td>\n    </tr>\n    <tr>\n      <th>UMAP Neighbors=15</th>\n      <td>1.00</td>\n      <td>0.0</td>\n      <td>0.974</td>\n      <td>0.012</td>\n      <td>0.856</td>\n      <td>0.049</td>\n      <td>0.990</td>\n      <td>0.017</td>\n    </tr>\n    <tr>\n      <th>UMAP Neighbors=80</th>\n      <td>1.00</td>\n      <td>0.0</td>\n      <td>0.992</td>\n      <td>0.013</td>\n      <td>0.831</td>\n      <td>0.059</td>\n      <td>0.969</td>\n      <td>0.025</td>\n    </tr>\n  </tbody>\n</table>\n</div>"
     },
     "execution_count": 18,
     "metadata": {},
     "output_type": "execute_result"
    }
   ],
   "source": [
    "pd.DataFrame(model_statistics).rename({\n",
    "    'UMAP\\nNeighbors=15': 'UMAP Neighbors=15',\n",
    "    'UMAP\\nNeighbors=80': 'UMAP Neighbors=80',\n",
    "}, axis=1).T.reset_index().drop(\n",
    "    'level_0', axis=1\n",
    ").groupby(\n",
    "    ['level_1', 'level_2']\n",
    ").agg(['mean', 'std']).round(3)\n"
   ],
   "metadata": {
    "collapsed": false,
    "pycharm": {
     "name": "#%%\n"
    }
   }
  },
  {
   "cell_type": "code",
   "execution_count": 89,
   "outputs": [],
   "source": [],
   "metadata": {
    "collapsed": false,
    "pycharm": {
     "name": "#%%\n"
    }
   }
  },
  {
   "cell_type": "code",
   "execution_count": 89,
   "outputs": [],
   "source": [],
   "metadata": {
    "collapsed": false,
    "pycharm": {
     "name": "#%%\n"
    }
   }
  }
 ],
 "metadata": {
  "kernelspec": {
   "display_name": "Python 3",
   "language": "python",
   "name": "python3"
  },
  "language_info": {
   "codemirror_mode": {
    "name": "ipython",
    "version": 2
   },
   "file_extension": ".py",
   "mimetype": "text/x-python",
   "name": "python",
   "nbconvert_exporter": "python",
   "pygments_lexer": "ipython2",
   "version": "2.7.6"
  }
 },
 "nbformat": 4,
 "nbformat_minor": 0
}